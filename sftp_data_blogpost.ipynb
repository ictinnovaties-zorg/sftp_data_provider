{
 "cells": [
  {
   "cell_type": "markdown",
   "metadata": {},
   "source": [
    "# `sftp_data_provider`: a simple python package to distribute data via an SFTP server\n",
    "\n",
    "subtitle\n",
    "\n",
    "**Paul Hiemstra**\n",
    "\n",
    "# Introduction\n",
    "- At the lectoraat we work a lot together with students. This often involves sharing sensitive patient information. For each project we setup a Data Transfer Agreement, but this only covers the timeframe of the study. This is typically 3 months. After that, the students should delete the data. \n",
    "- Up to recently we used e-mail or teams to distribute the data to the students. If we use the example of e-mail, this means the data is in my e-mail, the e-mail of every student and on the harddrive of every student. If students forward the data to other mailadresses or copy it to other machines (laptop and desktop), the amount of places the data is stored becomes much larger. \n",
    "- Once the project is finished, this makes it hard to delete the data from all the locations. In addition, we at the lectoraat cannot garantuee that each students deletes the data from each of the locations they store it. \n",
    "- Therefore, we are looking for a tool to store the data in a central location where the students can load the data from. The data should not be permanently stored on the students PC. This means the data is not actually transferred to the students computers, and we can very easily limit access again once the project is done. \n",
    "\n",
    "# We use SFTP, why this is a good option\n",
    "**TODO** sit down with Gido and expand this section. \n",
    "\n",
    "# Present the tool we wrote\n",
    "Describe the interface and refer to the documentation. "
   ]
  }
 ],
 "metadata": {
  "language_info": {
   "name": "python"
  }
 },
 "nbformat": 4,
 "nbformat_minor": 2
}

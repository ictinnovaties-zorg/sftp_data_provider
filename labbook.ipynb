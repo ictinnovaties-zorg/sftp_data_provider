{
 "cells": [
  {
   "attachments": {},
   "cell_type": "markdown",
   "metadata": {},
   "source": [
    "# 04-04-2023\n",
    "### De data verbergen\n",
    "De data moet alleen voor studenten beschikbaar zijn tijdens het project. Daarna moet iedereen de data weer weggooien. Met onderstaande code kunnen we ervoor zorgen dat de data nooit naar de studenten gestuurd hoeft te worden, maar dat ze deze direct vanaf een server in hun notebook laden. Elke keer als ze hun notebook sluiten is de data weer weg, en we kunnen hun de toegang ontzeggen door hun inlogaccount in te trekken. \n",
    "\n",
    "De onderstaande code doet dit via een SFTP verbinding. Voor elke databron moet je een toegangsfunctie schrijven die een pandas dataframe uitspuugt. Dat is waar de studenten mee aan de slag gaan. "
   ]
  },
  {
   "cell_type": "code",
   "execution_count": null,
   "metadata": {},
   "outputs": [],
   "source": [
    "from data_loading_functions import get_psma_file\n",
    "\n",
    "df = get_psma_file('s123456', 'xxxxxxx')\n",
    "df"
   ]
  },
  {
   "attachments": {},
   "cell_type": "markdown",
   "metadata": {},
   "source": [
    "### Ook de code verbergen\n",
    "In de functie die de studenten toegang geeft tot de data staat ook details over de data. Bijvoorbeeld wat het password is om toegang tot de excel file te krijgen. Door ook de toegangsfuncties vanaf de SFTP server te lezen creeeren we weer een laag van veiligheid om de data heen. **Het uitgangspunt is dat de happy flow zo vleilig mogelijk is**. Als extraatje kunnen we op deze manier ook de code die nodig is om de data in te lezen updaten. \n",
    "\n",
    "De code hieronder lees de source file vanaf de SFTP server en geeft dit terug als een library achtig object. Daarna kun je de specifieke laad functie voor de data gebruiken die de daadwerkelijke data van de SFTP server haalt. "
   ]
  },
  {
   "cell_type": "code",
   "execution_count": null,
   "metadata": {},
   "outputs": [],
   "source": [
    "from module_loading_functions import get_vicodin_module\n",
    "\n",
    "data_loading_module = get_vicodin_module('files/data.csv', 's123456', 'xxxxxxx')\n",
    "data_loading_module.get_psma_file('s123456', 'xxxxxxx')"
   ]
  },
  {
   "attachments": {},
   "cell_type": "markdown",
   "metadata": {},
   "source": [
    "# Inlezen van de PSMA excel file\n",
    "We gaan de loader functie maken voor de PSMA Excel file:"
   ]
  },
  {
   "cell_type": "code",
   "execution_count": null,
   "metadata": {},
   "outputs": [],
   "source": [
    "import msoffcrypto\n",
    "import io\n",
    "import pandas as pd\n",
    "\n",
    "excel_file = \"data.xlsm\"\n",
    "\n",
    "def psma_loader(fname):\n",
    "    decrypted = io.BytesIO()\n",
    "    with open(fname, \"rb\") as f:\n",
    "        file = msoffcrypto.OfficeFile(f)\n",
    "        file.load_key(password=\"xxxxxxx\")  # Use password\n",
    "        file.decrypt(decrypted)\n",
    "\n",
    "        return pd.read_excel(decrypted, sheet_name='Data', nrows=60, skiprows=1)\n",
    "\n",
    "df = psma_loader(excel_file)\n",
    "df.tail(1)"
   ]
  },
  {
   "attachments": {},
   "cell_type": "markdown",
   "metadata": {},
   "source": [
    "Dit laat zien dat de loader functie werkt. Van belang:\n",
    "- We lezen alleen de eerste 60 rijen, hierna komen wat samenvattingen van de bovenliggende data en een stuk van de data die niet compleet is. Deze laatste twee stukken slaan we dus over. \n",
    "- We slaan de eerste rij over, de tweede rij bevat de kolomnamen. "
   ]
  },
  {
   "attachments": {},
   "cell_type": "markdown",
   "metadata": {},
   "source": [
    "# 05-04-2023\n",
    "### Verkennen van de data\n",
    "De data bevat de volgende kolommen:"
   ]
  },
  {
   "cell_type": "code",
   "execution_count": null,
   "metadata": {},
   "outputs": [],
   "source": [
    "df.columns"
   ]
  },
  {
   "attachments": {},
   "cell_type": "markdown",
   "metadata": {},
   "source": [
    "Wat me hier opvalt is dat er kolommen zijn die niet in de Excel staan (vanaf `Lymf_1_or_inguinale0`). Dit komt doordat de kolommen daarna op verborgen staan. Ik heb Joris al even gevraagd wat ik hier mee moet doen. "
   ]
  },
  {
   "cell_type": "code",
   "execution_count": null,
   "metadata": {},
   "outputs": [],
   "source": [
    "df.info()"
   ]
  },
  {
   "attachments": {},
   "cell_type": "markdown",
   "metadata": {},
   "source": [
    "De eerste kolom `Onderzoeksnummer (Patientx)` is het patientnummer, een unieke waarde voor elk van de 60 patienten die in deze dataset zitten. De volgende kolommen (`Gewicht` tot `Leeftijd_scan`) geven een aantal eigenschappen van de "
   ]
  },
  {
   "attachments": {},
   "cell_type": "markdown",
   "metadata": {},
   "source": [
    "# 06-04-2023\n",
    "\n",
    "### TODO\n",
    "- put the username and password in a config file: https://dev.to/jakewitcher/using-env-files-for-environment-variables-in-python-applications-55a1\n",
    "- stop de hostname ook in de config file\n",
    "- maak een test scripts\n",
    "    - bash script\n",
    "    - kijkt of je met de test account die actief is iets kan inlezen waar je *wel* bij mag\n",
    "    - en kijkt of je ergens niet bij kan waar je ook geen toegang toe hebt"
   ]
  },
  {
   "attachments": {},
   "cell_type": "markdown",
   "metadata": {},
   "source": [
    "### Instellingen in een config file stoppen\n",
    "Nu staan de username en password expliciet in de code, maar een meer veilige aanpak is om dit in een los config bestandje te stoppen. Hier kan dan direct alle configuratie spul zijn plaats vinden, inclusief de hostname. Naast veiligheid (password staat nu in de code die het repo in gaat) is het ook handig voor overdracht naar de studenten: je geeft ze een config bestandje met alle relevante settings. Dit, gecombineerd met de code om de leeslibrary in te laden van de SFTP server, zorgt ervoor dat ze de data kunnen lezen. \n",
    "\n",
    "Gido kwam met de suggestie om Environment variables hiervoor in te zetten, hij stuurde ook een [link met de beschrijving](https://dev.to/jakewitcher/using-env-files-for-environment-variables-in-python-applications-55a1). Dit is een mooie cleane oplossing, met als enige nadeel dat je een extra package moet installeren. \n",
    "\n",
    "Wat ontwerpbeslissingen rondom deze config file setup:\n",
    "- Ik wil dat de de aanwezigheid van de conf file verplicht is. Als deze niet gevonden wordt geven we geen defaults. We moeten we een goede foutmelding geven zodat studenten weten wat er aan de hand is. \n",
    "\n",
    "# 12-04-2023\n",
    "### Issue met de jupyter server op de verkeerde poort\n",
    "Na een VS Code update startte de Jupyter server op poort 8889 op ipv 8888. Na wat klooien blijkt dat je in de docker file niet langer port forwarding hoeft te doen. Sterker nog, als je het doet dan fiets je tegen het opstarten van Jupyter server in. \n",
    "\n",
    "### Aan de slag met de SFTP server\n",
    "Gido heeft de SFTP server nu ingesteld. Er is per groepje een directory beschikbaar waar hun eigen data klaar gaat staan. Verder is er ook nog eens scripts directory waar de code klaar staat om ingelezen te worden. \n",
    "\n",
    "Als eerste stap gaan we de code klaar zetten en kijken of we die vanaf de server kunnen laden. Eerste kopieren we de code naar de home dir van mijn account:\n",
    "\n",
    "    > scp data_loading_functions.py vicodin:~\n",
    "\n",
    "we kunnen niet direct naar `/var/sftp` kopieren aangezien mijn normale account niet direct sudo rechten heeft. Volgende stap is het kopieren naar de sftp directory en de rechten goed zetten:\n",
    "\n",
    "    vicodin> sudo cp data_loading_functions.py /var/sftp/scripts/\n",
    "    vicodin> cd /var/sftp/scripts/\n",
    "    vicodin> sudo chown root:students data_loading_functions.py\n",
    "\n",
    "Nu kunnen we gaan kijken of we deze code ingelezen krijgen: "
   ]
  },
  {
   "cell_type": "code",
   "execution_count": 5,
   "metadata": {},
   "outputs": [
    {
     "name": "stdout",
     "output_type": "stream",
     "text": [
      "/tmp/tmpcs7kre3p\n"
     ]
    },
    {
     "ename": "AttributeError",
     "evalue": "'NoneType' object has no attribute 'loader'",
     "output_type": "error",
     "traceback": [
      "\u001b[0;31m---------------------------------------------------------------------------\u001b[0m",
      "\u001b[0;31mAttributeError\u001b[0m                            Traceback (most recent call last)",
      "\u001b[0;32m/tmp/ipykernel_4317/3237761188.py\u001b[0m in \u001b[0;36m<module>\u001b[0;34m\u001b[0m\n\u001b[1;32m      1\u001b[0m \u001b[0;32mfrom\u001b[0m \u001b[0mmodule_loading_functions\u001b[0m \u001b[0;32mimport\u001b[0m \u001b[0mget_vicodin_module\u001b[0m\u001b[0;34m\u001b[0m\u001b[0;34m\u001b[0m\u001b[0m\n\u001b[1;32m      2\u001b[0m \u001b[0;34m\u001b[0m\u001b[0m\n\u001b[0;32m----> 3\u001b[0;31m \u001b[0mdata_loading_module\u001b[0m \u001b[0;34m=\u001b[0m \u001b[0mget_vicodin_module\u001b[0m\u001b[0;34m(\u001b[0m\u001b[0;34m'scripts/data_loading_functions.py'\u001b[0m\u001b[0;34m)\u001b[0m\u001b[0;34m\u001b[0m\u001b[0;34m\u001b[0m\u001b[0m\n\u001b[0m\u001b[1;32m      4\u001b[0m \u001b[0;31m#data_loading_module.get_psma_file('s115387', 'u34aE3&@oKG#')\u001b[0m\u001b[0;34m\u001b[0m\u001b[0;34m\u001b[0m\u001b[0m\n",
      "\u001b[0;32m/workspaces/psma_bone_lesion/module_loading_functions.py\u001b[0m in \u001b[0;36mget_vicodin_module\u001b[0;34m(fname)\u001b[0m\n\u001b[1;32m     74\u001b[0m         \u001b[0;31m#module = make_module(tmp.name)\u001b[0m\u001b[0;34m\u001b[0m\u001b[0;34m\u001b[0m\u001b[0m\n\u001b[1;32m     75\u001b[0m         \u001b[0mprint\u001b[0m\u001b[0;34m(\u001b[0m\u001b[0mtmp\u001b[0m\u001b[0;34m.\u001b[0m\u001b[0mname\u001b[0m\u001b[0;34m)\u001b[0m\u001b[0;34m\u001b[0m\u001b[0;34m\u001b[0m\u001b[0m\n\u001b[0;32m---> 76\u001b[0;31m         \u001b[0mmodule\u001b[0m \u001b[0;34m=\u001b[0m \u001b[0mmake_module\u001b[0m\u001b[0;34m(\u001b[0m\u001b[0mtmp\u001b[0m\u001b[0;34m.\u001b[0m\u001b[0mname\u001b[0m\u001b[0;34m)\u001b[0m\u001b[0;34m\u001b[0m\u001b[0;34m\u001b[0m\u001b[0m\n\u001b[0m\u001b[1;32m     77\u001b[0m     \u001b[0;32mreturn\u001b[0m \u001b[0mmodule\u001b[0m\u001b[0;34m\u001b[0m\u001b[0;34m\u001b[0m\u001b[0m\n",
      "\u001b[0;32m/workspaces/psma_bone_lesion/module_loading_functions.py\u001b[0m in \u001b[0;36mmake_module\u001b[0;34m(fname)\u001b[0m\n\u001b[1;32m     44\u001b[0m     '''\n\u001b[1;32m     45\u001b[0m     \u001b[0mspec\u001b[0m \u001b[0;34m=\u001b[0m \u001b[0mimportlib\u001b[0m\u001b[0;34m.\u001b[0m\u001b[0mutil\u001b[0m\u001b[0;34m.\u001b[0m\u001b[0mspec_from_file_location\u001b[0m\u001b[0;34m(\u001b[0m\u001b[0;34m\"load_vicodin_data\"\u001b[0m\u001b[0;34m,\u001b[0m \u001b[0mfname\u001b[0m\u001b[0;34m)\u001b[0m\u001b[0;34m\u001b[0m\u001b[0;34m\u001b[0m\u001b[0m\n\u001b[0;32m---> 46\u001b[0;31m     \u001b[0mmodule\u001b[0m \u001b[0;34m=\u001b[0m \u001b[0mimportlib\u001b[0m\u001b[0;34m.\u001b[0m\u001b[0mutil\u001b[0m\u001b[0;34m.\u001b[0m\u001b[0mmodule_from_spec\u001b[0m\u001b[0;34m(\u001b[0m\u001b[0mspec\u001b[0m\u001b[0;34m)\u001b[0m\u001b[0;34m\u001b[0m\u001b[0;34m\u001b[0m\u001b[0m\n\u001b[0m\u001b[1;32m     47\u001b[0m     \u001b[0mspec\u001b[0m\u001b[0;34m.\u001b[0m\u001b[0mloader\u001b[0m\u001b[0;34m.\u001b[0m\u001b[0mexec_module\u001b[0m\u001b[0;34m(\u001b[0m\u001b[0mmodule\u001b[0m\u001b[0;34m)\u001b[0m\u001b[0;34m\u001b[0m\u001b[0;34m\u001b[0m\u001b[0m\n\u001b[1;32m     48\u001b[0m     \u001b[0;32mreturn\u001b[0m \u001b[0mmodule\u001b[0m\u001b[0;34m\u001b[0m\u001b[0;34m\u001b[0m\u001b[0m\n",
      "\u001b[0;32m/opt/conda/lib/python3.9/importlib/_bootstrap.py\u001b[0m in \u001b[0;36mmodule_from_spec\u001b[0;34m(spec)\u001b[0m\n",
      "\u001b[0;31mAttributeError\u001b[0m: 'NoneType' object has no attribute 'loader'"
     ]
    }
   ],
   "source": [
    "from module_loading_functions import get_vicodin_module\n",
    "\n",
    "data_loading_module = get_vicodin_module('scripts/data_loading_functions.py')\n",
    "#data_loading_module.get_psma_file('s123456', 'xxxxxxx')"
   ]
  },
  {
   "attachments": {},
   "cell_type": "markdown",
   "metadata": {},
   "source": [
    "Hieronder repliceer ik een deel van de code om erachter te komen wat er aan de hand is. "
   ]
  },
  {
   "cell_type": "code",
   "execution_count": null,
   "metadata": {},
   "outputs": [],
   "source": [
    "import paramiko\n",
    "from dotenv import load_dotenv\n",
    "import tempfile\n",
    "import os\n",
    "import subprocess\n",
    "import importlib.util\n",
    "from pathlib import Path\n",
    "\n",
    "load_dotenv()\n",
    "HOSTNAME = os.getenv(\"SFTP_HOSTNAME\")\n",
    "USERNAME = os.getenv(\"SFTP_USERNAME\")\n",
    "PASSWORD = os.getenv(\"SFTP_PASSWORD\")\n",
    "print(HOSTNAME, USERNAME, PASSWORD)\n",
    "fname = 'scripts/data_loading_functions.py'\n",
    "\n",
    "with open(\"tmp_loading_file.py\", \"wb\") as tmp:\n",
    "    with paramiko.SSHClient() as ssh_client:\n",
    "        ssh_client.set_missing_host_key_policy(paramiko.AutoAddPolicy())\n",
    "        ssh_client.connect(hostname=HOSTNAME, username=USERNAME, password=PASSWORD, allow_agent=False)\n",
    "        sftp_client = ssh_client.open_sftp()\n",
    "        with ssh_client.open_sftp() as sftp_client:\n",
    "            with sftp_client.open(fname) as f:\n",
    "                tmp.write(f.read())\n",
    "\n",
    "spec = importlib.util.spec_from_file_location(\"Loading data functions\", \"tmp_loading_file.py\")\n",
    "Path('tmp_loading_file.py').unlink()\n",
    "\n",
    "print(spec)"
   ]
  },
  {
   "attachments": {},
   "cell_type": "markdown",
   "metadata": {},
   "source": [
    "Na wat klooien werkt de code hierboven. Het issue is dat de temp file op mijn PC aangemaakt wordt en dus niet in de container toegankelijk is. Dan maar hard een naam kiezen (en hopen dat de student niet precies dezelfde kies) en handmatig weggooien. \n",
    "\n",
    "# 13-03-2023\n",
    "Na wat testen bleek de bovenstaande oplossing ook niet goed te werken. Uiteindelijk na een goed gesprek met ChatGPT was de beste oplossing uiteindelijk om `dir = \".\"` mee te geven aan `tempfile.NamedTemporaryFile`. Dit zorgde ervoor dat het bestand beschibaar was in de huidige directory, en lost alle problemen op met deleten van bestanden, voorkomen dat het bestand al bestaat, etc. Dit maakt de code veel simpeler. \n",
    "\n",
    "Checken of het werkt:"
   ]
  },
  {
   "cell_type": "code",
   "execution_count": null,
   "metadata": {},
   "outputs": [],
   "source": [
    "from module_loading_functions import get_vicodin_module\n",
    "\n",
    "data_loading_module = get_vicodin_module('scripts/data_loading_functions.py')"
   ]
  },
  {
   "attachments": {},
   "cell_type": "markdown",
   "metadata": {},
   "source": [
    "Eerste leidde dit onverwacht niet tot de foutmelding die ik dacht (op de server is een syntax error). Het issue hier was dat ik verwachten was om `tmp_file.flush()` toe te voegen. Dit om te foceren dat de content van `tmp_file.write()` ook daadwerkelijk naar de disk gaat. \n",
    "\n",
    "Volgende stap is om de `data_loading_functions.py` file helemaal up-te-daten:\n",
    "- Juiste filenaam\n",
    "- Gebruik maken van credentails in de .env file\n",
    "\n",
    "Ik heb nu ook de functie `get_vicodin_module` uitgebreid met een local_file optie, kun je eerste je code testen op lokale file. Als alles dan werkt kun je deze uploaden naar de sftp server:"
   ]
  },
  {
   "cell_type": "code",
   "execution_count": 2,
   "metadata": {},
   "outputs": [
    {
     "ename": "UnicodeDecodeError",
     "evalue": "'utf-8' codec can't decode byte 0xd0 in position 0: invalid continuation byte",
     "output_type": "error",
     "traceback": [
      "\u001b[0;31m---------------------------------------------------------------------------\u001b[0m",
      "\u001b[0;31mUnicodeDecodeError\u001b[0m                        Traceback (most recent call last)",
      "\u001b[0;32m/tmp/ipykernel_16844/1343200716.py\u001b[0m in \u001b[0;36m<module>\u001b[0;34m\u001b[0m\n\u001b[1;32m      2\u001b[0m \u001b[0;34m\u001b[0m\u001b[0m\n\u001b[1;32m      3\u001b[0m \u001b[0mdata_loading_module\u001b[0m \u001b[0;34m=\u001b[0m \u001b[0mget_vicodin_module\u001b[0m\u001b[0;34m(\u001b[0m\u001b[0;34m'scripts/data_loading_functions.py'\u001b[0m\u001b[0;34m,\u001b[0m \u001b[0mlocal_file\u001b[0m\u001b[0;34m=\u001b[0m\u001b[0;34m\"data_loading_functions.py\"\u001b[0m\u001b[0;34m)\u001b[0m\u001b[0;34m\u001b[0m\u001b[0;34m\u001b[0m\u001b[0m\n\u001b[0;32m----> 4\u001b[0;31m \u001b[0mdata_loading_module\u001b[0m\u001b[0;34m.\u001b[0m\u001b[0mget_psma_file\u001b[0m\u001b[0;34m(\u001b[0m\u001b[0;34m)\u001b[0m\u001b[0;34m\u001b[0m\u001b[0;34m\u001b[0m\u001b[0m\n\u001b[0m",
      "\u001b[0;32m/workspaces/psma_bone_lesion/data_loading_functions.py\u001b[0m in \u001b[0;36mget_psma_file\u001b[0;34m()\u001b[0m\n\u001b[1;32m     53\u001b[0m     \u001b[0mThe\u001b[0m \u001b[0monly\u001b[0m \u001b[0mrequirement\u001b[0m \u001b[0;32mis\u001b[0m \u001b[0mto\u001b[0m \u001b[0mhave\u001b[0m \u001b[0ma\u001b[0m \u001b[0mvalid\u001b[0m \u001b[0musername\u001b[0m \u001b[0;32mand\u001b[0m \u001b[0mpassword\u001b[0m \u001b[0mstored\u001b[0m \u001b[0;32min\u001b[0m \u001b[0mthe\u001b[0m \u001b[0;34m.\u001b[0m\u001b[0menv\u001b[0m \u001b[0mfile\u001b[0m\u001b[0;34m\u001b[0m\u001b[0;34m\u001b[0m\u001b[0m\n\u001b[1;32m     54\u001b[0m     '''\n\u001b[0;32m---> 55\u001b[0;31m     \u001b[0;32mreturn\u001b[0m \u001b[0mget_vicodin_data\u001b[0m\u001b[0;34m(\u001b[0m\u001b[0;34m'database_psma_met_functies.xlsm'\u001b[0m\u001b[0;34m,\u001b[0m \u001b[0mloader_function\u001b[0m\u001b[0;34m=\u001b[0m\u001b[0mpsma_loader\u001b[0m\u001b[0;34m)\u001b[0m\u001b[0;34m\u001b[0m\u001b[0;34m\u001b[0m\u001b[0m\n\u001b[0m",
      "\u001b[0;32m/workspaces/psma_bone_lesion/data_loading_functions.py\u001b[0m in \u001b[0;36mget_vicodin_data\u001b[0;34m(fname, loader_function)\u001b[0m\n\u001b[1;32m     36\u001b[0m         \u001b[0;32mwith\u001b[0m \u001b[0mssh_client\u001b[0m\u001b[0;34m.\u001b[0m\u001b[0mopen_sftp\u001b[0m\u001b[0;34m(\u001b[0m\u001b[0;34m)\u001b[0m \u001b[0;32mas\u001b[0m \u001b[0msftp_client\u001b[0m\u001b[0;34m:\u001b[0m\u001b[0;34m\u001b[0m\u001b[0;34m\u001b[0m\u001b[0m\n\u001b[1;32m     37\u001b[0m             \u001b[0;32mwith\u001b[0m \u001b[0msftp_client\u001b[0m\u001b[0;34m.\u001b[0m\u001b[0mopen\u001b[0m\u001b[0;34m(\u001b[0m\u001b[0mfname\u001b[0m\u001b[0;34m,\u001b[0m \u001b[0;34m'rb'\u001b[0m\u001b[0;34m)\u001b[0m \u001b[0;32mas\u001b[0m \u001b[0mf\u001b[0m\u001b[0;34m:\u001b[0m\u001b[0;34m\u001b[0m\u001b[0;34m\u001b[0m\u001b[0m\n\u001b[0;32m---> 38\u001b[0;31m                 \u001b[0mdf\u001b[0m \u001b[0;34m=\u001b[0m \u001b[0mloader_function\u001b[0m\u001b[0;34m(\u001b[0m\u001b[0mio\u001b[0m\u001b[0;34m.\u001b[0m\u001b[0mStringIO\u001b[0m\u001b[0;34m(\u001b[0m\u001b[0mf\u001b[0m\u001b[0;34m.\u001b[0m\u001b[0mread\u001b[0m\u001b[0;34m(\u001b[0m\u001b[0;34m)\u001b[0m\u001b[0;34m.\u001b[0m\u001b[0mdecode\u001b[0m\u001b[0;34m(\u001b[0m\u001b[0;34m'UTF-8'\u001b[0m\u001b[0;34m)\u001b[0m\u001b[0;34m)\u001b[0m\u001b[0;34m)\u001b[0m\u001b[0;34m\u001b[0m\u001b[0;34m\u001b[0m\u001b[0m\n\u001b[0m\u001b[1;32m     39\u001b[0m     \u001b[0;32mreturn\u001b[0m \u001b[0mdf\u001b[0m\u001b[0;34m\u001b[0m\u001b[0;34m\u001b[0m\u001b[0m\n\u001b[1;32m     40\u001b[0m \u001b[0;34m\u001b[0m\u001b[0m\n",
      "\u001b[0;31mUnicodeDecodeError\u001b[0m: 'utf-8' codec can't decode byte 0xd0 in position 0: invalid continuation byte"
     ]
    }
   ],
   "source": [
    "from module_loading_functions import get_vicodin_module\n",
    "\n",
    "data_loading_module = get_vicodin_module('scripts/data_loading_functions.py', local_file=\"data_loading_functions.py\")\n",
    "data_loading_module.get_psma_file()"
   ]
  },
  {
   "attachments": {},
   "cell_type": "markdown",
   "metadata": {},
   "source": [
    "The next problem is that we cannot decode the encrypted excel file using `io.StringIO(f.read().decode())`, which yields the above error. The solution is to keep the binary data in an `io.BytesIO` buffer, never decoding the stuff until it is actually needed. "
   ]
  },
  {
   "cell_type": "code",
   "execution_count": null,
   "metadata": {},
   "outputs": [],
   "source": [
    "from module_loading_functions import get_vicodin_module\n",
    "\n",
    "data_loading_module = get_vicodin_module('scripts/data_loading_functions.py', local_file=\"data_loading_functions.py\")\n",
    "data_loading_module.get_psma_file().head(1)"
   ]
  },
  {
   "attachments": {},
   "cell_type": "markdown",
   "metadata": {},
   "source": [
    "Volgende stap is om te testen of dit ook voor andere files werkt, bv een test csv bestandje:"
   ]
  },
  {
   "cell_type": "code",
   "execution_count": 4,
   "metadata": {},
   "outputs": [
    {
     "data": {
      "text/html": [
       "<div>\n",
       "<style scoped>\n",
       "    .dataframe tbody tr th:only-of-type {\n",
       "        vertical-align: middle;\n",
       "    }\n",
       "\n",
       "    .dataframe tbody tr th {\n",
       "        vertical-align: top;\n",
       "    }\n",
       "\n",
       "    .dataframe thead th {\n",
       "        text-align: right;\n",
       "    }\n",
       "</style>\n",
       "<table border=\"1\" class=\"dataframe\">\n",
       "  <thead>\n",
       "    <tr style=\"text-align: right;\">\n",
       "      <th></th>\n",
       "      <th>kolom_a</th>\n",
       "      <th>kolom_b</th>\n",
       "    </tr>\n",
       "  </thead>\n",
       "  <tbody>\n",
       "    <tr>\n",
       "      <th>0</th>\n",
       "      <td>1</td>\n",
       "      <td>2</td>\n",
       "    </tr>\n",
       "    <tr>\n",
       "      <th>1</th>\n",
       "      <td>3</td>\n",
       "      <td>4</td>\n",
       "    </tr>\n",
       "    <tr>\n",
       "      <th>2</th>\n",
       "      <td>5</td>\n",
       "      <td>6</td>\n",
       "    </tr>\n",
       "  </tbody>\n",
       "</table>\n",
       "</div>"
      ],
      "text/plain": [
       "   kolom_a   kolom_b\n",
       "0        1         2\n",
       "1        3         4\n",
       "2        5         6"
      ]
     },
     "execution_count": 4,
     "metadata": {},
     "output_type": "execute_result"
    }
   ],
   "source": [
    "import pandas as pd\n",
    "\n",
    "pd.read_csv('test.csv')"
   ]
  },
  {
   "cell_type": "code",
   "execution_count": 2,
   "metadata": {},
   "outputs": [
    {
     "data": {
      "text/html": [
       "<div>\n",
       "<style scoped>\n",
       "    .dataframe tbody tr th:only-of-type {\n",
       "        vertical-align: middle;\n",
       "    }\n",
       "\n",
       "    .dataframe tbody tr th {\n",
       "        vertical-align: top;\n",
       "    }\n",
       "\n",
       "    .dataframe thead th {\n",
       "        text-align: right;\n",
       "    }\n",
       "</style>\n",
       "<table border=\"1\" class=\"dataframe\">\n",
       "  <thead>\n",
       "    <tr style=\"text-align: right;\">\n",
       "      <th></th>\n",
       "      <th>kolom_a</th>\n",
       "      <th>kolom_b</th>\n",
       "    </tr>\n",
       "  </thead>\n",
       "  <tbody>\n",
       "    <tr>\n",
       "      <th>0</th>\n",
       "      <td>1</td>\n",
       "      <td>2</td>\n",
       "    </tr>\n",
       "    <tr>\n",
       "      <th>1</th>\n",
       "      <td>3</td>\n",
       "      <td>4</td>\n",
       "    </tr>\n",
       "    <tr>\n",
       "      <th>2</th>\n",
       "      <td>5</td>\n",
       "      <td>6</td>\n",
       "    </tr>\n",
       "  </tbody>\n",
       "</table>\n",
       "</div>"
      ],
      "text/plain": [
       "   kolom_a   kolom_b\n",
       "0        1         2\n",
       "1        3         4\n",
       "2        5         6"
      ]
     },
     "execution_count": 2,
     "metadata": {},
     "output_type": "execute_result"
    }
   ],
   "source": [
    "from module_loading_functions import get_vicodin_module\n",
    "\n",
    "data_loading_module = get_vicodin_module('scripts/data_loading_functions.py', local_file=\"data_loading_functions.py\")\n",
    "data_loading_module.get_test_file()"
   ]
  },
  {
   "attachments": {},
   "cell_type": "markdown",
   "metadata": {},
   "source": [
    "Which confirms that the code works on the local copy of `data_loading_functions.py`. After copying the latest version to the sftp server we can test:"
   ]
  },
  {
   "cell_type": "code",
   "execution_count": null,
   "metadata": {},
   "outputs": [],
   "source": [
    "from module_loading_functions import get_vicodin_module\n",
    "\n",
    "data_loading_module = get_vicodin_module('scripts/data_loading_functions.py')\n",
    "data_loading_module.get_test_file()"
   ]
  },
  {
   "cell_type": "code",
   "execution_count": null,
   "metadata": {},
   "outputs": [],
   "source": [
    "data_loading_module.get_psma_file().head(1)"
   ]
  },
  {
   "attachments": {},
   "cell_type": "markdown",
   "metadata": {},
   "source": [
    "Both work as advertised. Nice. "
   ]
  },
  {
   "attachments": {},
   "cell_type": "markdown",
   "metadata": {},
   "source": [
    "# 17-04-2023: requirements\n",
    "Het systeem wat we nu gebouwd hebben is natuurlijk alleen nuttig als het ook voldoet aan de requirements. Deze requirements zitten impliciet wel in dit labbook, maar voor het opstellen van de tests is het goed om dit wat meer te structureren. Het systeem ziet er nu als volgt uit:\n",
    "\n",
    "![img](pics/flowchart_dataloading.png)\n",
    "\n",
    "Een jupyter notebook doet een verzoek naar de SFTP server voor de code die nodig is om de data in te lezen. Als er een valide SFTP account is, dan krijgt de student de data. De data lees software is opgeslagen in een `scripts` directory op de SFTP server die toegankelijk is voor alle studenten. \n",
    "\n",
    "Vervolgens kan de data-lees code gebruikt worden om daadwerkelijk de data binnen te halen. Per databron is er een custom laad functie beschikbaar die de data ophaalt en naar een dataframe omzet. Welke databestanden beschikbaar zijn wordt bepaald door de account die je opgeeft. Bijvoorbeeld, alleen als je een psma account hebt staat deze data ook voor je beschikbaar. Als je de functie `get_psma_data` aanroept zonder een valide account krijg je een foutmelding omdat je een niet bestaand (voor jou niet bestaand) databestand probeert op te halen. \n",
    "\n",
    "De happy flow bevat de volgende requirements:\n",
    "**Er is eigenlijk maar 1 usecase/user story \"als student wil ik data downloaden\", wellicht ook \"als docent wil ik data beschikbaar stellen\"\n",
    "- UC1: Als student wil ik data beschikbaar hebben zodat ik mijn onderzoek kan uitvoeren. \n",
    "    - AC: de student moet *niet* data kunnen downloaden waar geen toestemming voor is\n",
    "    - AC: De student krijgt de data terug in een Pandas DataFrame. Andere details zoals passwords voor Excel files moeten niet zichtbaar zijn voor studenten. \n",
    "    - AC: de data wordt *niet* op de hard schijf van de studenten opgeslagen, zodra de Jupyter Kernel afgesloten wordt moet de data weg zijn\n",
    "    - AC: de student moet met de data kunnen werken zonder een netwerkverbinding, alleen bij het inladen is netwerk nodig\n",
    "    - AC: de student moet de data kunnen inladen vanaf elke plek met een netwerk verbinding, niet alleen vanuit WH of Isala bv. \n",
    "    - AC: de credentials voor de SFTP server moeten los staan van deze source code"
   ]
  },
  {
   "attachments": {},
   "cell_type": "markdown",
   "metadata": {},
   "source": [
    "# 21-04-2023\n",
    "De groep gaf aan dat er een permissionprobleem was met de temp file. Het lag aan dit ding: https://stackoverflow.com/a/23212515/1033808. \n",
    "\n",
    "De oplossing was om de file handmatig lokaal in te laden, dit had niet last van de permission bug. "
   ]
  },
  {
   "attachments": {
    "image.png": {
     "image/png": "[encoded data removed]"
    }
   },
   "cell_type": "markdown",
   "metadata": {},
   "source": [
    "# 25-04-2023\n",
    "Ik heb net voor het xxxxxx project een heel gesprek met xxxxx gehad.\n",
    "\n",
    "Dit zijn de aantekeningen:\n",
    "![image.png](attachment:image.png)\n",
    "\n",
    "Ik ga eerst de niet-radiomics data klaar zetten voor de studenten, dit zit in het `Inclusie Radiomics studie DLBCL - V2 - ANONIEM.xlsx` bestandje. Let op dat ik voor de studenten alvast de lege regels tussen responders en non-responders al weggehaald heb (rij 25-31). Het resulterende bestandje heet `database_lymfoma_non_radiomics.xlsx`. "
   ]
  },
  {
   "cell_type": "code",
   "execution_count": null,
   "metadata": {},
   "outputs": [],
   "source": [
    "import pandas as pd\n",
    "\n",
    "# read excel file and convert to dataframe\n",
    "df = pd.read_excel('database_lymfoma_non_radiomics.xlsx')\n",
    "df.head(1)"
   ]
  },
  {
   "cell_type": "code",
   "execution_count": null,
   "metadata": {},
   "outputs": [],
   "source": [
    "df.tail()"
   ]
  },
  {
   "attachments": {},
   "cell_type": "markdown",
   "metadata": {},
   "source": [
    "Ziet er zo op eerste orde goed uit, studenten kunnen dit verder verwerken. Nu moeten we een leesfunctie en een loader schrijven:"
   ]
  },
  {
   "cell_type": "code",
   "execution_count": null,
   "metadata": {},
   "outputs": [],
   "source": [
    "from module_loading_functions import get_vicodin_module\n",
    "\n",
    "data_loading_module = get_vicodin_module('scripts/data_loading_functions.py', local_file=\"data_loading_functions.py\")\n",
    "data_loading_module.get_lymfoma_non_radiomics().head(1)"
   ]
  },
  {
   "attachments": {},
   "cell_type": "markdown",
   "metadata": {},
   "source": [
    "# 26-04-2023\n",
    "Ik heb aan de functie `get_vicodin_data` een betere foutverwerking toegevoegd. Wat er wel eens misgaat is dat de SFTP server aangeeft dat een file niet bestaat. Het is dan soms lastig te bepalen wat er precies misgaat. Een key stuk info is om te kijken welke bestanden er beschikbaar zijn voor de huidige gebruiker. Ik zat er eerst aan te denken om een list_files boolean toe te voegen die als True een lijst produceert met de beschikbare bestanden. \n",
    "\n",
    "Ik ben uiteindelijk op een ander alternatief uitgekomen: een try/except die in het geval van een error aangeeft dat het bestand niet bestaat op de server, en een lijst geeft met de bestanden die wel beschikbaar zijn. Het voordeel van deze aanpak is dat de interface van de `get_vicodin_data` niet nodeloos groter wordt, en je krijgt in de context waarin het relevant is direct de foutmeling zonder dat je de code opnieuw hoeft te draaien met `list_files=True`. Ook elimineert het de enorme foutmelding waar studenten niet echt veel aan hebben en geeft veel nuttigere output. \n",
    "\n",
    "Ik gebruik nu nog een simpel print statement voor de message, maar zit te denken aan het gebruiken van de logging library. Dit geeft wat meer opties om later flexibel met de log messages om te gaan, bv zowel loggen op scherm als in een file, en kiezen welke niveau van logging je wil zien (DEBUG, INFO, ERROR, etc). \n",
    "\n",
    "De volgende code laat die nieuw foutmelding zien:"
   ]
  },
  {
   "cell_type": "code",
   "execution_count": 13,
   "metadata": {},
   "outputs": [
    {
     "name": "stderr",
     "output_type": "stream",
     "text": [
      "ERROR:root:Could not find file non_existing_file.xlsx on the server. The following files are available:\n",
      " - scripts\n",
      " - dgbcl.txt\n",
      " - database_lymfoma_non_radiomics.xlsx\n"
     ]
    }
   ],
   "source": [
    "from module_loading_functions import get_vicodin_module\n",
    "\n",
    "data_loading_module = get_vicodin_module('scripts/data_loading_functions.py', local_file=\"data_loading_functions.py\")\n",
    "data_loading_module.get_non_existing_data()"
   ]
  },
  {
   "attachments": {},
   "cell_type": "markdown",
   "metadata": {},
   "source": [
    "Ik heb ook het decrypten van de excel bytestream in een eigen functie gestopt, dit zodat het herbruikbaar is voor andere get functies die een excel moeten decrypten. \n",
    "\n",
    "Ik zorg ervoor dat ik de env file voor PSMA gebruik, en de kernel reset:"
   ]
  },
  {
   "cell_type": "code",
   "execution_count": null,
   "metadata": {},
   "outputs": [],
   "source": [
    "from module_loading_functions import get_vicodin_module\n",
    "\n",
    "data_loading_module = get_vicodin_module('scripts/data_loading_functions.py', local_file=\"data_loading_functions.py\")\n",
    "data_loading_module.get_psma_file().head(1)"
   ]
  },
  {
   "attachments": {},
   "cell_type": "markdown",
   "metadata": {},
   "source": [
    "Dit werkt!~\n",
    "\n",
    "### Naar meer functionele stijl\n",
    "De daadwerkelijk loading functions bestaan nu veel uit het aanroepen van `get_vicodin_data` plus wat helper functies. Door dit in een standaard setup te doen met:\n",
    "\n",
    "    def bla():\n",
    "        code\n",
    "\n",
    "Zorgt dit dat de code veel ruimte gebruikt en boilerplate heeft. Het idee gaat zijn dat we een combinatie van currying en composition gebruiken. De functie:"
   ]
  },
  {
   "cell_type": "code",
   "execution_count": null,
   "metadata": {},
   "outputs": [],
   "source": [
    "def psma_loader(bytes_io):\n",
    "    '''\n",
    "    Decrypts the BytesIO stream containing the PSMA data and returns a pandas dataframe\n",
    "    '''\n",
    "    decrypted = decrypt_excel_bytes(bytes_io, password=\"xxxxx\")\n",
    "    return pd.read_excel(decrypted, sheet_name='Data', nrows=60, skiprows=1)"
   ]
  },
  {
   "attachments": {},
   "cell_type": "markdown",
   "metadata": {},
   "source": [
    "Wordt dan iets als"
   ]
  },
  {
   "cell_type": "code",
   "execution_count": null,
   "metadata": {},
   "outputs": [],
   "source": [
    "compose(curry(decrypt_excel_bytes, password=\"xxxxxxx\"),\n",
    "        curry(pd.read_excel, sheet_name='Data', nrows=60, skiprows=1))"
   ]
  },
  {
   "attachments": {},
   "cell_type": "markdown",
   "metadata": {},
   "source": [
    "Dus met compose rijg je meerdere functies aan elkaar, met curry stel je de individuele functies goed in. \n",
    "\n",
    "Het `functools` package biedt functioneel programmeren implementaties:"
   ]
  },
  {
   "cell_type": "code",
   "execution_count": 5,
   "metadata": {},
   "outputs": [
    {
     "ename": "ImportError",
     "evalue": "cannot import name 'compose' from 'functools' (/opt/conda/lib/python3.9/functools.py)",
     "output_type": "error",
     "traceback": [
      "\u001b[0;31m---------------------------------------------------------------------------\u001b[0m",
      "\u001b[0;31mImportError\u001b[0m                               Traceback (most recent call last)",
      "\u001b[0;32m/tmp/ipykernel_5007/3699205479.py\u001b[0m in \u001b[0;36m<module>\u001b[0;34m\u001b[0m\n\u001b[0;32m----> 1\u001b[0;31m \u001b[0;32mfrom\u001b[0m \u001b[0mfunctools\u001b[0m \u001b[0;32mimport\u001b[0m \u001b[0mpartial\u001b[0m\u001b[0;34m,\u001b[0m \u001b[0mcompose\u001b[0m\u001b[0;34m\u001b[0m\u001b[0;34m\u001b[0m\u001b[0m\n\u001b[0m",
      "\u001b[0;31mImportError\u001b[0m: cannot import name 'compose' from 'functools' (/opt/conda/lib/python3.9/functools.py)"
     ]
    }
   ],
   "source": [
    "from functools import partial, compose"
   ]
  },
  {
   "attachments": {},
   "cell_type": "markdown",
   "metadata": {},
   "source": [
    "Hier lopen we tegen het issue aan dat functools geen function composition implementatie heeft, en dat dit [ook niet gaat komen](https://bugs.python.org/issue1506122). [Dit github repo](https://github.com/sfermigier/awesome-functional-python) heeft veel informatie over functioneel programmeren, en laat zien dat het [toolz package](https://github.com/pytoolz/toolz) een populair optie is die dit wel heeft. \n",
    "\n",
    "We hebben hier een keuze te maken: gaan we voor een extern pacakge die de functies heeft of gebruiken we het ingebouwde functools en schrijven [we zelf een compose](https://www.geeksforgeeks.org/function-composition-in-python/). Voor backwards compatibility en het feit dat we maar weinig code nodig hebben kies ik ervoor om functools te gebruiken. \n",
    "\n",
    "De compose heb ik [hier vandaan](https://www.geeksforgeeks.org/function-composition-in-python/):"
   ]
  },
  {
   "cell_type": "code",
   "execution_count": 16,
   "metadata": {},
   "outputs": [
    {
     "name": "stdout",
     "output_type": "stream",
     "text": [
      "a\n",
      "b\n",
      "c\n"
     ]
    }
   ],
   "source": [
    "from functools import partial, reduce\n",
    "\n",
    "def compose(*func):\n",
    "    '''\n",
    "    Based on the composite_function from https://www.geeksforgeeks.org/function-composition-in-python/\n",
    "    '''\n",
    "    def compose_helper(f, g):  \n",
    "        return lambda x : g(f(x)) # Swapped f and g to change the order of execution of the list of functions in *func\n",
    "    return reduce(compose_helper, func, lambda x : x)\n",
    "\n",
    "def a(x):\n",
    "    print('a')\n",
    "\n",
    "def b(x):\n",
    "    print('b')\n",
    "\n",
    "def c(x):\n",
    "    print('c')\n",
    "\n",
    "compose(a,b,c)('a')"
   ]
  },
  {
   "attachments": {},
   "cell_type": "markdown",
   "metadata": {},
   "source": [
    "Met deze tools kunnen we PSMA herschrijven:"
   ]
  },
  {
   "cell_type": "code",
   "execution_count": null,
   "metadata": {},
   "outputs": [],
   "source": [
    "from functools import partial, reduce\n",
    "\n",
    "def compose(*func):\n",
    "    '''\n",
    "    Based on the composite_function from https://www.geeksforgeeks.org/function-composition-in-python/\n",
    "    '''\n",
    "    def compose_helper(f, g):  \n",
    "        return lambda x : g(f(x)) # Swapped f and g to change the order of execution of the list of functions in *func\n",
    "    return reduce(compose_helper, func, lambda x : x)\n",
    "\n",
    "def psma_loader(bytes_io):\n",
    "    '''\n",
    "    Decrypts the BytesIO stream containing the PSMA data and returns a pandas dataframe\n",
    "    '''\n",
    "    decrypted = decrypt_excel_bytes(bytes_io, password=\"PSMAsept2022\")\n",
    "    return pd.read_excel(decrypted, sheet_name='Data', nrows=60, skiprows=1)\n",
    "\n",
    "def get_psma_file():\n",
    "    '''The function you can use to get the psma data\n",
    "    \n",
    "    The only requirement is to have a valid username and password stored in the .env file\n",
    "    '''\n",
    "    return get_vicodin_data('database_psma_met_functies.xlsm', loader_function=psma_loader)\n",
    "\n",
    "psma_loader = compose(partial(decrypt_excel_bytes, password=\"xxxxxx\"),\n",
    "                      partial(pd.read_excel, sheet_name='Data', nrows=60, skiprows=1))\n",
    "get_psma_file = partial(get_vicodin_data, 'database_psma_met_functies.xlsm', loader_function=psma_loader)"
   ]
  },
  {
   "cell_type": "code",
   "execution_count": null,
   "metadata": {},
   "outputs": [],
   "source": [
    "from module_loading_functions import get_vicodin_module\n",
    "\n",
    "data_loading_module = get_vicodin_module('scripts/data_loading_functions.py', local_file=\"data_loading_functions.py\")\n",
    "data_loading_module.get_psma_file().head(1)"
   ]
  },
  {
   "attachments": {},
   "cell_type": "markdown",
   "metadata": {},
   "source": [
    "De code werkt! En het beslaat nog maar de helft van het aantal regels code. We betalen wel een beetje de prijs dat voor mensen die compose en partial niet kennen dat dit wat lastiger leesbaar is. Maar dit moet goed uitgelegd worden in het ontwerp. \n",
    "\n",
    "Nu werken we ook de andere getters en loaders om:"
   ]
  },
  {
   "cell_type": "code",
   "execution_count": null,
   "metadata": {},
   "outputs": [],
   "source": [
    "from module_loading_functions import get_vicodin_module\n",
    "\n",
    "data_loading_module = get_vicodin_module('scripts/data_loading_functions.py', local_file=\"data_loading_functions.py\")\n",
    "data_loading_module.get_test_file()"
   ]
  },
  {
   "attachments": {},
   "cell_type": "markdown",
   "metadata": {},
   "source": [
    "# 11-05-2023: Testing\n",
    "We gaan vandaag kijken naar het implementeren van een test suite. Deels is dit om in de documentatie de student voor te doen hoe je tests kan maken die onderdeel zijn van je ontwerpprocces. Deels is het natuurlijk om te testen of de tool ook daadwerkelijk doet wat hij moet doen. \n",
    "\n",
    "De uitgangspunten zijn:\n",
    "- De tests zijn niet primair technisch, maar testen functionaliteit. Doet het systeem wat we met elkaar afgesproken hebben. Kan zijn dat hier ook tests onder vallen die niet direct raken aan zaken die de gebruiker kan zien, maar wellicht dat dit dan een stap later wel het geval is. "
   ]
  },
  {
   "attachments": {},
   "cell_type": "markdown",
   "metadata": {},
   "source": [
    "### AC1: student kan alleen data inlezen waar hij/zij toegang toe heeft\n",
    "Dit is natuurlijk één van de meeste essentiele dingen om te checken. Een student moet alleen toegang hebben tot de zaken waar ze doelbinding voor hebben. Hoe we dat afdekken in deze tool is via de SFTP inlog, welke weer gekoppeld is aan de `.env` file die de student in de werkdir heeft staan. \n",
    "\n",
    "We kunnen een aantal uitspraken doen voor mensen die een PSMA account hebben:\n",
    "\n",
    "- Met het PSMA account zou je bij de PSMA data moeten kunnen\n",
    "- Met het PSMA account zou je *niet* bij de Lymfoma data moeten kunnen\n",
    "- Met een PSMA account moet je de dataloading module kunnen laden\n",
    "- Met een PSMA account moet je de test set kunnen inladen\n",
    "\n",
    "Bovenstaande opties gelden eigenlijk voor alle accounts die actief zijn in het systeem (en geconfigureerd staan in de SFTP server). "
   ]
  },
  {
   "cell_type": "code",
   "execution_count": 1,
   "metadata": {},
   "outputs": [],
   "source": [
    "from module_loading_functions import get_vicodin_module\n",
    "\n",
    "data_loading_module = get_vicodin_module('scripts/data_loading_functions.py', local_file=\"data_loading_functions.py\")\n",
    "test = data_loading_module.get_test_file()\n",
    "\n",
    "# python unittest check if the returned object is a dataframe\n",
    "import pandas as pd\n",
    "isinstance(test, pd.DataFrame)"
   ]
  },
  {
   "attachments": {},
   "cell_type": "markdown",
   "metadata": {},
   "source": [
    "Ik heb net de eerste test gemaakt: kijken of ik de test data kan inladen, en of het een pandas dataframe teruggeeft. De naam van de test is `test_test_data` in de `TestPSMAaccount` set aan tests. Ik maak testscases per account met het idee dat ik straks code kan delen tussen de verschillende test accounts, bijvoorbeeld het inladen van de test data is exact gelijk voor alle accounts. \n",
    "\n",
    "Een aantal keuzes die ik maak:\n",
    "- Ik laad `dataloading_functions.py` lokaal in. Dit sluit wat mij betreft beter aan bij de workflow, je draait de tests als je aan het sleutelen bent aan de code. Anders moet je elke keer dataloadingfunctions uploaden naar de server voordat je de test kan draaien. Het nadeel is natuurlijk dat dit dus niet test of het ook allemaal werkt met de code op de server. Wellicht een optie inbouwen om hierin te kiezen? \n",
    "- Ik check alleen of er een dataframe terugkomt als ik de test_data inlees. Eventueel zou ik hier nog kunnen checken of de exacte data gelijk is. \n",
    "\n",
    "Volgende stap is om de daadwerkelijk data in te laden. Voor de PSMA case zou ik geen valide DataFrame moeten krijgen als ik Lymfoma lees, maar wel als ik PSMA data lees. "
   ]
  },
  {
   "cell_type": "code",
   "execution_count": 4,
   "metadata": {},
   "outputs": [
    {
     "name": "stderr",
     "output_type": "stream",
     "text": [
      "ERROR:root:Could not find file database_lymfoma_non_radiomics.xlsx on the server. The following files are available:\n",
      " - scripts\n",
      " - database_psma_met_functies.xlsm\n",
      " - psma.txt\n"
     ]
    }
   ],
   "source": [
    "data_loading_module = get_vicodin_module('scripts/data_loading_functions.py', local_file=\"data_loading_functions.py\")\n",
    "lymfoma_data = data_loading_module.get_lymfoma_non_radiomics()"
   ]
  },
  {
   "attachments": {},
   "cell_type": "markdown",
   "metadata": {},
   "source": [
    "# 09-06-2023: meer testen\n",
    "Dit is het eerste werk wat ik aan de SFTP tool doe sinds het zijn eigen repo heeft gekregen. Als je de bestaande test wil draaien kun je dit door **in de terminal van de container** uit te voeren:\n",
    "\n",
    "    python tests.py\n",
    "\n",
    "Een issue was nog dat bij de test die kijkt of je een bepaald bestand *niet* kan inlezen dat er een error message in beeld kwam. Deze message heb ik nu optioneel gemaakt via `silent_fail`. Als deze op `True` staat wordt de boodschap niet geprint. "
   ]
  },
  {
   "cell_type": "markdown",
   "metadata": {},
   "source": [
    "# 22-09-2023: Gevoelige informatie uitsplitsen\n",
    "We zijn van plan om de tool open-source te maken, maar dan moet je natuurlijk wel ervoor zorgen dat alle gevoelige informatie niet in het repo beschikbaar is. Deels hebben we dit op opgelost door de sftp_tool af te splitsen van het psma project waar het eerste onderdeel van was. Maar de get functies die we per project maken bevatten nog wel gevoelige informatie zoals excel passwords. Het idee is om dit op te lossen door de file niet langer onderdeel te maken van het repo. Het algemene deel van `data_loading_functions` blijft, maar het project specifieke moet buiten het git repo komen te liggen. \n",
    "\n",
    "Hoe we dit gaan doen is een beetje vergelijkbaar met hoe we met de sftp credentials omgaan, het komt in een losse file te staan die je als configuratie toevoegt. Wat zou kunnen is dat `data_loading_functions.py` checkt of er source file bestaat met een voorafgesproken naam, bv `local_getters.py`. Alle loaders en getters die daar staan worden dan automatisch ingelezen from `from xxx import *`. Deze file bevat dan de gevoelige informatie, maar is niet onderdeel van het open-source repo. We kunnen dan een prive repo hebben waar deze gevoelige config informatie in staat. En nieuwe gebruikers kunnen hun eigen gevoelige getters en loaders schrijven. \n",
    "\n",
    "Een uitdaging is hier om de local_getters goed in data_loading functions te integreren, twee opties:\n",
    "- Maak ook binnen data_loading_functions gebruik van `make_module` zoals in module_loading_functions. Overwegingen: \n",
    "  - dat je er dan voor moet zorgen dat bij het lezen van de code deze ook weer voor module_loading_functions beschikbaar komt. \n",
    "  - het is de vraag of de functies als `get_vicodin_data` uit de main env dan beschikbaar zijn binnen de door `make_module` aangemaakte module op basis van `local_getters` (net gekeken, dit werkt wel)\n",
    "  - voordeel zou zijn dat je wel makkelijk de naam `local_getters` kan aanpassen\n",
    "\n",
    "- gebruik `from local_getters import *`. \n",
    "  - nadeel hier is dat er over en weer afhankelijkheden zijn, `local_getters` heeft een aantal basis functies uit `data_loading_functions` nodig, en `data_loading_functions` importeert dan `local_getters` weer. Over het algemeen zijn dit soort [circulaire imports](https://stackabuse.com/python-circular-imports/) niet een goed idee. \n",
    "\n",
    "\n",
    "Toen ik besefte dat via make_module ik eigenlijk ook een circulaire dependcy maakte heb ik beslist om simpelweg `from bla import *` te gebruiken. Hoef ik `make_module` niet te herhalen in `data_load_functions`, en het mechanisme sluit beter aan bij wat gebruikers al kennen. \n",
    "\n",
    "Denk erom dat ik natuurlijk eerst kijk of de `local_getter.py` file wel echt bestaat. Dit doe ik met pathlib, dat is de huidige beste methode schijnt. "
   ]
  },
  {
   "cell_type": "code",
   "execution_count": null,
   "metadata": {},
   "outputs": [],
   "source": [
    "from module_loading_functions import get_vicodin_module\n",
    "\n",
    "data_loading_module = get_vicodin_module('scripts/data_loading_functions.py', local_file=\"data_loading_functions.py\")\n",
    "data_loading_module.get_psma_file().head(1)"
   ]
  },
  {
   "cell_type": "markdown",
   "metadata": {},
   "source": [
    "Uiteindelijk was het vrij straightforward: \n",
    "- Kopieer alle getters en loaders naar `local_getters.py`\n",
    "- importeer, als de file bestaat, `from local_getters import *`\n",
    "- zorg ervoor dat je alle relevante imports doet in `local_getters.py`, deels zaken van standaard python libraries, deels uit `data_loading_functions.py`. Dit creeert een circulaire dependency, en dus moet `data_loading_functions.py` **altijd** samen met `local_getters.py` worden gedeployed. Dat moet sowieso al, dus dat valt mee. De circulaire dependency voelt niet direct als een super elegante oplossing, maar het werkt voor nu. "
   ]
  },
  {
   "cell_type": "markdown",
   "metadata": {},
   "source": [
    "# 22-11-2023: op naar een Python package\n",
    "Bleek dat het werken met een local_getter.py niet werkte zoals ik verwacht had. Het issue is dat als ik de local_getters file op de sftp server klaar zet dat deze niet noodzakelijkerwijs ingelezen wordt. Doordat ik data_loading_functions lokaal download wordt zodra de import 'from local_getters import \\*' gedaan wordt probeert Python dit *lokaal* in te lezen, niet vanaf de server. Ik zou dit kunnen oplossen door twee bestandjes te downloaden, maar dat wordt wel een beetje hackerig. \n",
    "\n",
    "Een meer cleane oplossing is alle code in een python package te verwerken die de student dan lokaal installeert. Het systeem download dan een scriptje, in principe `local_getters.py`, die de functie levert om de data op te halen. Deze functie maakt dan gebruik van het lokaal geinstalleerde pacakge voor de relevante functies. Stel dat het python package `sftp_data_provider` heet, dan zou de workflow zoiets worden als:"
   ]
  },
  {
   "cell_type": "code",
   "execution_count": null,
   "metadata": {},
   "outputs": [],
   "source": [
    "# Dit is in een notebook\n",
    "from sftp_data_provider import get_vicodin_module\n",
    "\n",
    "data_loading_module = get_vicodin_module('scripts/project_loading_functions.py') # dit is dan wat nu local_getters is\n",
    "data_loading_module.get_project_data().head(1)"
   ]
  },
  {
   "cell_type": "markdown",
   "metadata": {},
   "source": [
    "Binnen `project_loading_functions`:"
   ]
  },
  {
   "cell_type": "code",
   "execution_count": null,
   "metadata": {},
   "outputs": [],
   "source": [
    "# dit is in het python script wat van de server gedownload wordt\n",
    "from sftp_data_provider import get_vicodin_data\n",
    "import pandas as pd\n",
    "\n",
    "def get_project_data():\n",
    "    return get_vicodin_data(\"project_data.xlsx\", pd.read_excel)"
   ]
  },
  {
   "cell_type": "markdown",
   "metadata": {},
   "source": [
    "Het notebook staat lokaal voor de gebruiker, en het script `project_loading_functions` wordt ook lokaal gedownload. Dus beide kunnen dan gebruik maken van de lokaal geinstalleerde code in het `sftp_data_provider` package. \n",
    "\n",
    "Het gebruiken van een package heeft een aantal voordelen:\n",
    "- We kunnen het uploaden naar een package repo, dan wordt het makkelijk te installeren via `pip install sftp_data_provider`. \n",
    "- We kunnen dependencies via pip managen. \n",
    "- Het wordt makkelijker voor andere mensen om op ons werk voort te bouwen. \n",
    "\n",
    "Het maken van een package was vrij simpel, ik volg de aanwijzingen [in deze link](https://packaging.python.org/en/latest/tutorials/packaging-projects/). \n",
    "\n",
    "Denk om:\n",
    "- De lokale versie moet up-to-date zijn met de zaken die in het script gebruikt worden. Het zou anders kunnen voorkomen dat een functie die je gebruikt niet in de lokale versie van sftp_data_provider zit. Ik denk dat een studentgroep dit package vers installeert, dus denk niet dat dit een al te groot issue gaat worden. "
   ]
  },
  {
   "cell_type": "markdown",
   "metadata": {},
   "source": [
    "### Testen\n",
    "Om te kunnen testen of dit werkt moet het geintegreerd worden in het bouwen van de container die ik voor testen gebruik. Kunnen we direct ook zien of het goed werkt in een cleane environment. Hiervoor gaan we de dockerfile aanpassen om:\n",
    "- De gebouwde tar.gz file van het package naar de container te sturen\n",
    "- Het pacakge te installeren\n",
    "\n",
    "Let op dat ik de Dockerfile naar de hoofddirectory van het repo gedaan heb. [Dit omdat standaard Docker alleen files naar de container kan kopieren tijdens het *bouwen* van de container die in de direcotry staan waar de Dockerfile in staat](https://stackoverflow.com/questions/27068596/how-to-include-files-outside-of-dockers-build-context). De makkelijkste oplossing voor nu is om de Dockerfile simpelweg in de root van het repo te zetten. \n",
    "\n",
    "Ook heb ik voor nu de verwijzing naar de file inclusief versie gemaakt. Dus als je een nieuwe versie bouwt van het package moet je hier ook deze versie aanpassen in de Dockerfile. Dit is voornamelijk handig voor even lokaal testen of het allemaal werkt. \n",
    "\n",
    "Alles werkte nu goed in de container, dus dit zou nu moeten werken:"
   ]
  },
  {
   "cell_type": "code",
   "execution_count": 3,
   "metadata": {},
   "outputs": [
    {
     "data": {
      "text/html": [
       "<div>\n",
       "<style scoped>\n",
       "    .dataframe tbody tr th:only-of-type {\n",
       "        vertical-align: middle;\n",
       "    }\n",
       "\n",
       "    .dataframe tbody tr th {\n",
       "        vertical-align: top;\n",
       "    }\n",
       "\n",
       "    .dataframe thead th {\n",
       "        text-align: right;\n",
       "    }\n",
       "</style>\n",
       "<table border=\"1\" class=\"dataframe\">\n",
       "  <thead>\n",
       "    <tr style=\"text-align: right;\">\n",
       "      <th></th>\n",
       "      <th>Patient ID</th>\n",
       "      <th>SUVmax primaire tumor</th>\n",
       "      <th>SUVmean aorta</th>\n",
       "      <th>cT-stage</th>\n",
       "      <th>Type</th>\n",
       "      <th>Locatie van aankleuring</th>\n",
       "      <th>SUVmax van aankleuring</th>\n",
       "      <th>Referentie SUVmax van aankleuring</th>\n",
       "      <th>Aantal hotspots lymfeklieren</th>\n",
       "      <th>Aantal hotspots bot</th>\n",
       "      <th>Classificatie</th>\n",
       "    </tr>\n",
       "  </thead>\n",
       "  <tbody>\n",
       "    <tr>\n",
       "      <th>0</th>\n",
       "      <td>0</td>\n",
       "      <td>34.04</td>\n",
       "      <td>2.11</td>\n",
       "      <td>cT2</td>\n",
       "      <td>Bot</td>\n",
       "      <td>Bekken</td>\n",
       "      <td>8.13</td>\n",
       "      <td>1.70</td>\n",
       "      <td>4</td>\n",
       "      <td>1</td>\n",
       "      <td>0</td>\n",
       "    </tr>\n",
       "    <tr>\n",
       "      <th>1</th>\n",
       "      <td>0</td>\n",
       "      <td>34.04</td>\n",
       "      <td>2.11</td>\n",
       "      <td>cT2</td>\n",
       "      <td>Lymfeklier</td>\n",
       "      <td>Pelvic lymph node</td>\n",
       "      <td>5.26</td>\n",
       "      <td>1.77</td>\n",
       "      <td>4</td>\n",
       "      <td>1</td>\n",
       "      <td>1</td>\n",
       "    </tr>\n",
       "    <tr>\n",
       "      <th>2</th>\n",
       "      <td>0</td>\n",
       "      <td>34.04</td>\n",
       "      <td>2.11</td>\n",
       "      <td>cT2</td>\n",
       "      <td>Lymfeklier</td>\n",
       "      <td>Pelvic lymph node</td>\n",
       "      <td>10.83</td>\n",
       "      <td>1.77</td>\n",
       "      <td>4</td>\n",
       "      <td>1</td>\n",
       "      <td>1</td>\n",
       "    </tr>\n",
       "    <tr>\n",
       "      <th>3</th>\n",
       "      <td>0</td>\n",
       "      <td>34.04</td>\n",
       "      <td>2.11</td>\n",
       "      <td>cT2</td>\n",
       "      <td>Lymfeklier</td>\n",
       "      <td>Pelvic lymph node</td>\n",
       "      <td>5.59</td>\n",
       "      <td>1.77</td>\n",
       "      <td>4</td>\n",
       "      <td>1</td>\n",
       "      <td>1</td>\n",
       "    </tr>\n",
       "    <tr>\n",
       "      <th>4</th>\n",
       "      <td>0</td>\n",
       "      <td>34.04</td>\n",
       "      <td>2.11</td>\n",
       "      <td>cT2</td>\n",
       "      <td>Lymfeklier</td>\n",
       "      <td>Pelvic lymph node</td>\n",
       "      <td>11.17</td>\n",
       "      <td>1.77</td>\n",
       "      <td>4</td>\n",
       "      <td>1</td>\n",
       "      <td>1</td>\n",
       "    </tr>\n",
       "    <tr>\n",
       "      <th>...</th>\n",
       "      <td>...</td>\n",
       "      <td>...</td>\n",
       "      <td>...</td>\n",
       "      <td>...</td>\n",
       "      <td>...</td>\n",
       "      <td>...</td>\n",
       "      <td>...</td>\n",
       "      <td>...</td>\n",
       "      <td>...</td>\n",
       "      <td>...</td>\n",
       "      <td>...</td>\n",
       "    </tr>\n",
       "    <tr>\n",
       "      <th>556</th>\n",
       "      <td>108</td>\n",
       "      <td>21.21</td>\n",
       "      <td>1.25</td>\n",
       "      <td>cT4</td>\n",
       "      <td>Lymfeklier</td>\n",
       "      <td>Pelvic lymph node</td>\n",
       "      <td>14.04</td>\n",
       "      <td>1.02</td>\n",
       "      <td>6</td>\n",
       "      <td>8</td>\n",
       "      <td>1</td>\n",
       "    </tr>\n",
       "    <tr>\n",
       "      <th>557</th>\n",
       "      <td>108</td>\n",
       "      <td>21.21</td>\n",
       "      <td>1.25</td>\n",
       "      <td>cT4</td>\n",
       "      <td>Lymfeklier</td>\n",
       "      <td>Pelvic lymph node</td>\n",
       "      <td>11.55</td>\n",
       "      <td>1.02</td>\n",
       "      <td>6</td>\n",
       "      <td>8</td>\n",
       "      <td>1</td>\n",
       "    </tr>\n",
       "    <tr>\n",
       "      <th>558</th>\n",
       "      <td>108</td>\n",
       "      <td>21.21</td>\n",
       "      <td>1.25</td>\n",
       "      <td>cT4</td>\n",
       "      <td>Lymfeklier</td>\n",
       "      <td>Pelvic lymph node</td>\n",
       "      <td>17.42</td>\n",
       "      <td>1.02</td>\n",
       "      <td>6</td>\n",
       "      <td>8</td>\n",
       "      <td>1</td>\n",
       "    </tr>\n",
       "    <tr>\n",
       "      <th>559</th>\n",
       "      <td>108</td>\n",
       "      <td>21.21</td>\n",
       "      <td>1.25</td>\n",
       "      <td>cT4</td>\n",
       "      <td>Lymfeklier</td>\n",
       "      <td>Communis (iliaca)</td>\n",
       "      <td>15.39</td>\n",
       "      <td>1.02</td>\n",
       "      <td>6</td>\n",
       "      <td>8</td>\n",
       "      <td>1</td>\n",
       "    </tr>\n",
       "    <tr>\n",
       "      <th>560</th>\n",
       "      <td>108</td>\n",
       "      <td>21.21</td>\n",
       "      <td>1.25</td>\n",
       "      <td>cT4</td>\n",
       "      <td>Lymfeklier</td>\n",
       "      <td>Paraaortaal</td>\n",
       "      <td>17.61</td>\n",
       "      <td>1.02</td>\n",
       "      <td>6</td>\n",
       "      <td>8</td>\n",
       "      <td>1</td>\n",
       "    </tr>\n",
       "  </tbody>\n",
       "</table>\n",
       "<p>561 rows × 11 columns</p>\n",
       "</div>"
      ],
      "text/plain": [
       "     Patient ID  SUVmax primaire tumor  SUVmean aorta cT-stage        Type  \\\n",
       "0             0                  34.04           2.11      cT2         Bot   \n",
       "1             0                  34.04           2.11      cT2  Lymfeklier   \n",
       "2             0                  34.04           2.11      cT2  Lymfeklier   \n",
       "3             0                  34.04           2.11      cT2  Lymfeklier   \n",
       "4             0                  34.04           2.11      cT2  Lymfeklier   \n",
       "..          ...                    ...            ...      ...         ...   \n",
       "556         108                  21.21           1.25      cT4  Lymfeklier   \n",
       "557         108                  21.21           1.25      cT4  Lymfeklier   \n",
       "558         108                  21.21           1.25      cT4  Lymfeklier   \n",
       "559         108                  21.21           1.25      cT4  Lymfeklier   \n",
       "560         108                  21.21           1.25      cT4  Lymfeklier   \n",
       "\n",
       "    Locatie van aankleuring  SUVmax van aankleuring  \\\n",
       "0                    Bekken                    8.13   \n",
       "1         Pelvic lymph node                    5.26   \n",
       "2         Pelvic lymph node                   10.83   \n",
       "3         Pelvic lymph node                    5.59   \n",
       "4         Pelvic lymph node                   11.17   \n",
       "..                      ...                     ...   \n",
       "556       Pelvic lymph node                   14.04   \n",
       "557       Pelvic lymph node                   11.55   \n",
       "558       Pelvic lymph node                   17.42   \n",
       "559       Communis (iliaca)                   15.39   \n",
       "560             Paraaortaal                   17.61   \n",
       "\n",
       "     Referentie SUVmax van aankleuring  Aantal hotspots lymfeklieren  \\\n",
       "0                                 1.70                             4   \n",
       "1                                 1.77                             4   \n",
       "2                                 1.77                             4   \n",
       "3                                 1.77                             4   \n",
       "4                                 1.77                             4   \n",
       "..                                 ...                           ...   \n",
       "556                               1.02                             6   \n",
       "557                               1.02                             6   \n",
       "558                               1.02                             6   \n",
       "559                               1.02                             6   \n",
       "560                               1.02                             6   \n",
       "\n",
       "     Aantal hotspots bot  Classificatie  \n",
       "0                      1              0  \n",
       "1                      1              1  \n",
       "2                      1              1  \n",
       "3                      1              1  \n",
       "4                      1              1  \n",
       "..                   ...            ...  \n",
       "556                    8              1  \n",
       "557                    8              1  \n",
       "558                    8              1  \n",
       "559                    8              1  \n",
       "560                    8              1  \n",
       "\n",
       "[561 rows x 11 columns]"
      ]
     },
     "execution_count": 3,
     "metadata": {},
     "output_type": "execute_result"
    }
   ],
   "source": [
    "from sftp_data_provider import get_vicodin_module\n",
    "\n",
    "data_loading_module = get_vicodin_module('scripts/psma_getters.py') # dit is dan wat nu local_getters is\n",
    "data_loading_module.get_project_data()"
   ]
  },
  {
   "cell_type": "markdown",
   "metadata": {},
   "source": [
    "Wat ik me nog bedacht, voor dit soort erg simpele getters hoe je in principe niet eens een getter_script klaar te zetten wat je ophaalt met `get_vicodin_module`. Je kunt dan ineens get_vicodin_data aanroepen:"
   ]
  },
  {
   "cell_type": "code",
   "execution_count": 6,
   "metadata": {},
   "outputs": [
    {
     "data": {
      "text/html": [
       "<div>\n",
       "<style scoped>\n",
       "    .dataframe tbody tr th:only-of-type {\n",
       "        vertical-align: middle;\n",
       "    }\n",
       "\n",
       "    .dataframe tbody tr th {\n",
       "        vertical-align: top;\n",
       "    }\n",
       "\n",
       "    .dataframe thead th {\n",
       "        text-align: right;\n",
       "    }\n",
       "</style>\n",
       "<table border=\"1\" class=\"dataframe\">\n",
       "  <thead>\n",
       "    <tr style=\"text-align: right;\">\n",
       "      <th></th>\n",
       "      <th>Patient ID</th>\n",
       "      <th>SUVmax primaire tumor</th>\n",
       "      <th>SUVmean aorta</th>\n",
       "      <th>cT-stage</th>\n",
       "      <th>Type</th>\n",
       "      <th>Locatie van aankleuring</th>\n",
       "      <th>SUVmax van aankleuring</th>\n",
       "      <th>Referentie SUVmax van aankleuring</th>\n",
       "      <th>Aantal hotspots lymfeklieren</th>\n",
       "      <th>Aantal hotspots bot</th>\n",
       "      <th>Classificatie</th>\n",
       "    </tr>\n",
       "  </thead>\n",
       "  <tbody>\n",
       "    <tr>\n",
       "      <th>0</th>\n",
       "      <td>0</td>\n",
       "      <td>34.04</td>\n",
       "      <td>2.11</td>\n",
       "      <td>cT2</td>\n",
       "      <td>Bot</td>\n",
       "      <td>Bekken</td>\n",
       "      <td>8.13</td>\n",
       "      <td>1.70</td>\n",
       "      <td>4</td>\n",
       "      <td>1</td>\n",
       "      <td>0</td>\n",
       "    </tr>\n",
       "    <tr>\n",
       "      <th>1</th>\n",
       "      <td>0</td>\n",
       "      <td>34.04</td>\n",
       "      <td>2.11</td>\n",
       "      <td>cT2</td>\n",
       "      <td>Lymfeklier</td>\n",
       "      <td>Pelvic lymph node</td>\n",
       "      <td>5.26</td>\n",
       "      <td>1.77</td>\n",
       "      <td>4</td>\n",
       "      <td>1</td>\n",
       "      <td>1</td>\n",
       "    </tr>\n",
       "    <tr>\n",
       "      <th>2</th>\n",
       "      <td>0</td>\n",
       "      <td>34.04</td>\n",
       "      <td>2.11</td>\n",
       "      <td>cT2</td>\n",
       "      <td>Lymfeklier</td>\n",
       "      <td>Pelvic lymph node</td>\n",
       "      <td>10.83</td>\n",
       "      <td>1.77</td>\n",
       "      <td>4</td>\n",
       "      <td>1</td>\n",
       "      <td>1</td>\n",
       "    </tr>\n",
       "    <tr>\n",
       "      <th>3</th>\n",
       "      <td>0</td>\n",
       "      <td>34.04</td>\n",
       "      <td>2.11</td>\n",
       "      <td>cT2</td>\n",
       "      <td>Lymfeklier</td>\n",
       "      <td>Pelvic lymph node</td>\n",
       "      <td>5.59</td>\n",
       "      <td>1.77</td>\n",
       "      <td>4</td>\n",
       "      <td>1</td>\n",
       "      <td>1</td>\n",
       "    </tr>\n",
       "    <tr>\n",
       "      <th>4</th>\n",
       "      <td>0</td>\n",
       "      <td>34.04</td>\n",
       "      <td>2.11</td>\n",
       "      <td>cT2</td>\n",
       "      <td>Lymfeklier</td>\n",
       "      <td>Pelvic lymph node</td>\n",
       "      <td>11.17</td>\n",
       "      <td>1.77</td>\n",
       "      <td>4</td>\n",
       "      <td>1</td>\n",
       "      <td>1</td>\n",
       "    </tr>\n",
       "    <tr>\n",
       "      <th>...</th>\n",
       "      <td>...</td>\n",
       "      <td>...</td>\n",
       "      <td>...</td>\n",
       "      <td>...</td>\n",
       "      <td>...</td>\n",
       "      <td>...</td>\n",
       "      <td>...</td>\n",
       "      <td>...</td>\n",
       "      <td>...</td>\n",
       "      <td>...</td>\n",
       "      <td>...</td>\n",
       "    </tr>\n",
       "    <tr>\n",
       "      <th>556</th>\n",
       "      <td>108</td>\n",
       "      <td>21.21</td>\n",
       "      <td>1.25</td>\n",
       "      <td>cT4</td>\n",
       "      <td>Lymfeklier</td>\n",
       "      <td>Pelvic lymph node</td>\n",
       "      <td>14.04</td>\n",
       "      <td>1.02</td>\n",
       "      <td>6</td>\n",
       "      <td>8</td>\n",
       "      <td>1</td>\n",
       "    </tr>\n",
       "    <tr>\n",
       "      <th>557</th>\n",
       "      <td>108</td>\n",
       "      <td>21.21</td>\n",
       "      <td>1.25</td>\n",
       "      <td>cT4</td>\n",
       "      <td>Lymfeklier</td>\n",
       "      <td>Pelvic lymph node</td>\n",
       "      <td>11.55</td>\n",
       "      <td>1.02</td>\n",
       "      <td>6</td>\n",
       "      <td>8</td>\n",
       "      <td>1</td>\n",
       "    </tr>\n",
       "    <tr>\n",
       "      <th>558</th>\n",
       "      <td>108</td>\n",
       "      <td>21.21</td>\n",
       "      <td>1.25</td>\n",
       "      <td>cT4</td>\n",
       "      <td>Lymfeklier</td>\n",
       "      <td>Pelvic lymph node</td>\n",
       "      <td>17.42</td>\n",
       "      <td>1.02</td>\n",
       "      <td>6</td>\n",
       "      <td>8</td>\n",
       "      <td>1</td>\n",
       "    </tr>\n",
       "    <tr>\n",
       "      <th>559</th>\n",
       "      <td>108</td>\n",
       "      <td>21.21</td>\n",
       "      <td>1.25</td>\n",
       "      <td>cT4</td>\n",
       "      <td>Lymfeklier</td>\n",
       "      <td>Communis (iliaca)</td>\n",
       "      <td>15.39</td>\n",
       "      <td>1.02</td>\n",
       "      <td>6</td>\n",
       "      <td>8</td>\n",
       "      <td>1</td>\n",
       "    </tr>\n",
       "    <tr>\n",
       "      <th>560</th>\n",
       "      <td>108</td>\n",
       "      <td>21.21</td>\n",
       "      <td>1.25</td>\n",
       "      <td>cT4</td>\n",
       "      <td>Lymfeklier</td>\n",
       "      <td>Paraaortaal</td>\n",
       "      <td>17.61</td>\n",
       "      <td>1.02</td>\n",
       "      <td>6</td>\n",
       "      <td>8</td>\n",
       "      <td>1</td>\n",
       "    </tr>\n",
       "  </tbody>\n",
       "</table>\n",
       "<p>561 rows × 11 columns</p>\n",
       "</div>"
      ],
      "text/plain": [
       "     Patient ID  SUVmax primaire tumor  SUVmean aorta cT-stage        Type  \\\n",
       "0             0                  34.04           2.11      cT2         Bot   \n",
       "1             0                  34.04           2.11      cT2  Lymfeklier   \n",
       "2             0                  34.04           2.11      cT2  Lymfeklier   \n",
       "3             0                  34.04           2.11      cT2  Lymfeklier   \n",
       "4             0                  34.04           2.11      cT2  Lymfeklier   \n",
       "..          ...                    ...            ...      ...         ...   \n",
       "556         108                  21.21           1.25      cT4  Lymfeklier   \n",
       "557         108                  21.21           1.25      cT4  Lymfeklier   \n",
       "558         108                  21.21           1.25      cT4  Lymfeklier   \n",
       "559         108                  21.21           1.25      cT4  Lymfeklier   \n",
       "560         108                  21.21           1.25      cT4  Lymfeklier   \n",
       "\n",
       "    Locatie van aankleuring  SUVmax van aankleuring  \\\n",
       "0                    Bekken                    8.13   \n",
       "1         Pelvic lymph node                    5.26   \n",
       "2         Pelvic lymph node                   10.83   \n",
       "3         Pelvic lymph node                    5.59   \n",
       "4         Pelvic lymph node                   11.17   \n",
       "..                      ...                     ...   \n",
       "556       Pelvic lymph node                   14.04   \n",
       "557       Pelvic lymph node                   11.55   \n",
       "558       Pelvic lymph node                   17.42   \n",
       "559       Communis (iliaca)                   15.39   \n",
       "560             Paraaortaal                   17.61   \n",
       "\n",
       "     Referentie SUVmax van aankleuring  Aantal hotspots lymfeklieren  \\\n",
       "0                                 1.70                             4   \n",
       "1                                 1.77                             4   \n",
       "2                                 1.77                             4   \n",
       "3                                 1.77                             4   \n",
       "4                                 1.77                             4   \n",
       "..                                 ...                           ...   \n",
       "556                               1.02                             6   \n",
       "557                               1.02                             6   \n",
       "558                               1.02                             6   \n",
       "559                               1.02                             6   \n",
       "560                               1.02                             6   \n",
       "\n",
       "     Aantal hotspots bot  Classificatie  \n",
       "0                      1              0  \n",
       "1                      1              1  \n",
       "2                      1              1  \n",
       "3                      1              1  \n",
       "4                      1              1  \n",
       "..                   ...            ...  \n",
       "556                    8              1  \n",
       "557                    8              1  \n",
       "558                    8              1  \n",
       "559                    8              1  \n",
       "560                    8              1  \n",
       "\n",
       "[561 rows x 11 columns]"
      ]
     },
     "execution_count": 6,
     "metadata": {},
     "output_type": "execute_result"
    }
   ],
   "source": [
    "from sftp_data_provider import get_vicodin_data\n",
    "import pandas as pd\n",
    "\n",
    "get_vicodin_data(\"psma_data_verwerkt.xlsx\", pd.read_excel)"
   ]
  },
  {
   "cell_type": "markdown",
   "metadata": {},
   "source": [
    "import base64\n",
    "from IPython.display import Image, display\n",
    "import matplotlib.pyplot as plt\n",
    "\n",
    "def mm(graph):\n",
    "    graphbytes = graph.encode(\"utf8\")\n",
    "    base64_bytes = base64.b64encode(graphbytes)\n",
    "    base64_string = base64_bytes.decode(\"ascii\")\n",
    "    display(Image(url=\"https://mermaid.ink/img/\" + base64_string))\n",
    "\n",
    "mm(\"\"\"\n",
    "graph LR;\n",
    "    A--> B & C & D;\n",
    "    B--> A & E;\n",
    "    C--> A & E;\n",
    "    D--> A & E;\n",
    "    E--> B & C & D;\n",
    "\"\"\")"
   ]
  },
  {
   "cell_type": "code",
   "execution_count": 1,
   "metadata": {},
   "outputs": [
    {
     "data": {
      "text/html": [
       "<img src=\"https://mermaid.ink/img/CmdyYXBoIExSOwogICAgQS0tPiBCICYgQyAmIEQ7CiAgICBCLS0+IEEgJiBFOwogICAgQy0tPiBBICYgRTsKICAgIEQtLT4gQSAmIEU7CiAgICBFLS0+IEIgJiBDICYgRDsK\"/>"
      ],
      "text/plain": [
       "<IPython.core.display.Image object>"
      ]
     },
     "metadata": {},
     "output_type": "display_data"
    }
   ],
   "source": [
    "import base64\n",
    "from IPython.display import Image, display\n",
    "import matplotlib.pyplot as plt\n",
    "\n",
    "def mm(graph):\n",
    "    graphbytes = graph.encode(\"utf8\")\n",
    "    base64_bytes = base64.b64encode(graphbytes)\n",
    "    base64_string = base64_bytes.decode(\"ascii\")\n",
    "    display(Image(url=\"https://mermaid.ink/img/\" + base64_string))\n",
    "\n",
    "mm(\"\"\"\n",
    "graph LR;\n",
    "    A--> B & C & D;\n",
    "    B--> A & E;\n",
    "    C--> A & E;\n",
    "    D--> A & E;\n",
    "    E--> B & C & D;\n",
    "\"\"\")"
   ]
  }
 ],
 "metadata": {
  "kernelspec": {
   "display_name": "Python 3 (ipykernel)",
   "language": "python",
   "name": "python3"
  },
  "language_info": {
   "codemirror_mode": {
    "name": "ipython",
    "version": 3
   },
   "file_extension": ".py",
   "mimetype": "text/x-python",
   "name": "python",
   "nbconvert_exporter": "python",
   "pygments_lexer": "ipython3",
   "version": "3.10.9"
  },
  "orig_nbformat": 4
 },
 "nbformat": 4,
 "nbformat_minor": 2
}
